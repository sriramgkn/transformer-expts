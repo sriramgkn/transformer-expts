{
  "cells": [
    {
      "cell_type": "markdown",
      "metadata": {},
      "source": [
        "## DistilBERT"
      ]
    },
    {
      "cell_type": "markdown",
      "metadata": {},
      "source": [
        "Here we experiment with DistilBERT - a transformer based language model available on HuggingFace."
      ]
    },
    {
      "cell_type": "markdown",
      "metadata": {},
      "source": [
        "We start by installing the libraries recommended on HuggingFace's [quick tour](https://huggingface.co/docs/transformers/en/quicktour)."
      ]
    },
    {
      "cell_type": "code",
      "execution_count": null,
      "metadata": {
        "colab": {
          "base_uri": "https://localhost:8080/"
        },
        "collapsed": true,
        "id": "yO5VI1gBlLqk",
        "outputId": "ef0178a1-8088-4352-82d6-47c7e19baf1a"
      },
      "outputs": [],
      "source": [
        "!pip install transformers datasets evaluate accelerate"
      ]
    },
    {
      "cell_type": "code",
      "execution_count": null,
      "metadata": {
        "colab": {
          "base_uri": "https://localhost:8080/"
        },
        "collapsed": true,
        "id": "6wwFaWs8ld8c",
        "outputId": "155b1aaf-af75-4509-c90c-fb1756c5a3eb"
      },
      "outputs": [],
      "source": [
        "!pip install torch"
      ]
    },
    {
      "cell_type": "markdown",
      "metadata": {
        "id": "zykxig0ioJc0"
      },
      "source": [
        "DistilBERT is an efficient version of the larger BERT model. Let us start by testing DistilBERT for masked language modeling (needs `DistilBertForMaskedLM`)."
      ]
    },
    {
      "cell_type": "code",
      "execution_count": 2,
      "metadata": {
        "colab": {
          "base_uri": "https://localhost:8080/"
        },
        "id": "hgjF1v9wwF2b",
        "outputId": "4413e2f0-3eab-430d-da76-b12e85ef00ab"
      },
      "outputs": [
        {
          "name": "stderr",
          "output_type": "stream",
          "text": [
            "/usr/local/lib/python3.10/dist-packages/huggingface_hub/utils/_token.py:89: UserWarning: \n",
            "The secret `HF_TOKEN` does not exist in your Colab secrets.\n",
            "To authenticate with the Hugging Face Hub, create a token in your settings tab (https://huggingface.co/settings/tokens), set it as secret in your Google Colab and restart your session.\n",
            "You will be able to reuse this secret in all of your notebooks.\n",
            "Please note that authentication is recommended but still optional to access public models or datasets.\n",
            "  warnings.warn(\n"
          ]
        },
        {
          "name": "stdout",
          "output_type": "stream",
          "text": [
            "Predicted token: . the aliens are eating fruit happily. their favorite hobby is cooking..\n"
          ]
        }
      ],
      "source": [
        "from transformers import DistilBertTokenizer, DistilBertForMaskedLM\n",
        "\n",
        "tokenizer = DistilBertTokenizer.from_pretrained('distilbert-base-uncased')\n",
        "model = DistilBertForMaskedLM.from_pretrained('distilbert-base-uncased')\n",
        "\n",
        "input_text = \"The aliens are eating [MASK] happily. Their favorite hobby is [MASK].\"\n",
        "encoded_input = tokenizer(input_text, return_tensors='pt')\n",
        "\n",
        "output = model(**encoded_input)\n",
        "predicted_token_id = output.logits.argmax(dim=-1)\n",
        "predicted_token = tokenizer.decode(predicted_token_id[0])\n",
        "\n",
        "print(\"Predicted token:\", predicted_token)"
      ]
    },
    {
      "cell_type": "markdown",
      "metadata": {
        "id": "XGpEGU520Yg-"
      },
      "source": [
        "Interesting response! Let us now try using DistilBERT for a text classification task (needs `DistilBertForSequenceClassification`) on the imdb movie reviews dataset. We start by loading the dataset, and then tokenizing it using the same tokenizer (`DistilBertTokenizer`) as earlier. The latter can take up to 12 mins on Google Colab."
      ]
    },
    {
      "cell_type": "code",
      "execution_count": 3,
      "metadata": {
        "id": "8K13Yt-lqfjJ"
      },
      "outputs": [],
      "source": [
        "from datasets import load_dataset"
      ]
    },
    {
      "cell_type": "code",
      "execution_count": 4,
      "metadata": {
        "collapsed": true,
        "id": "jfqQs66mrmc2"
      },
      "outputs": [],
      "source": [
        "dataset = load_dataset(\"imdb\")"
      ]
    },
    {
      "cell_type": "code",
      "execution_count": 5,
      "metadata": {
        "id": "DYFINIPvrxC_"
      },
      "outputs": [],
      "source": [
        "def tokenize(examples):\n",
        "    return tokenizer(examples[\"text\"], padding=\"max_length\", truncation=True)\n",
        "\n",
        "tokenized_datasets = dataset.map(tokenize, batched=True)"
      ]
    },
    {
      "cell_type": "code",
      "execution_count": 6,
      "metadata": {
        "id": "isNENRTpsC-t"
      },
      "outputs": [],
      "source": [
        "from transformers import AutoModelForSequenceClassification, TrainingArguments, Trainer"
      ]
    },
    {
      "cell_type": "code",
      "execution_count": 7,
      "metadata": {
        "colab": {
          "base_uri": "https://localhost:8080/"
        },
        "id": "Ed_Nh7OVyi31",
        "outputId": "179c514e-58e7-450a-b892-28b206ce27de"
      },
      "outputs": [
        {
          "name": "stderr",
          "output_type": "stream",
          "text": [
            "Some weights of DistilBertForSequenceClassification were not initialized from the model checkpoint at distilbert-base-uncased and are newly initialized: ['classifier.bias', 'classifier.weight', 'pre_classifier.bias', 'pre_classifier.weight']\n",
            "You should probably TRAIN this model on a down-stream task to be able to use it for predictions and inference.\n"
          ]
        }
      ],
      "source": [
        "model2 = AutoModelForSequenceClassification.from_pretrained('distilbert-base-uncased', num_labels=2)"
      ]
    },
    {
      "cell_type": "code",
      "execution_count": null,
      "metadata": {
        "id": "0vh3Pcenmfjl"
      },
      "outputs": [],
      "source": [
        "training_args = TrainingArguments(\n",
        "    output_dir=\"imdb_output\",\n",
        "    learning_rate=2e-5,\n",
        "    per_device_train_batch_size=64,\n",
        "    gradient_accumulation_steps=2,\n",
        "    fp16=True,\n",
        "    num_train_epochs=2,\n",
        ")\n",
        "\n",
        "trainer = Trainer(\n",
        "    model=model2,\n",
        "    args=training_args,\n",
        "    train_dataset=tokenized_datasets[\"train\"],\n",
        "    eval_dataset=tokenized_datasets[\"test\"],\n",
        ")\n",
        "\n",
        "trainer.train()\n"
      ]
    },
    {
      "cell_type": "markdown",
      "metadata": {},
      "source": [
        "Unfortunately, with just 12.67 GB free RAM on Google Colab, the above training job crashes the moment it uses up all the available memory (about a minute or two). This means we cannot progress with the IMDB reviews sentiment classification task at the moment. We hope we can complete this task with better compute access in the future. Nevertheless, we got a decent first exposure to the HuggingFace ecosystem using the DistilBERT model for masked language modelling, and using its tokenizer to tokenize the IMDB movie reviews dataset."
      ]
    }
  ],
  "metadata": {
    "colab": {
      "provenance": []
    },
    "kernelspec": {
      "display_name": "Python 3",
      "name": "python3"
    },
    "language_info": {
      "name": "python",
      "version": "3.12.3"
    }
  },
  "nbformat": 4,
  "nbformat_minor": 0
}
